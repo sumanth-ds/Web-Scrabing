{
 "cells": [
  {
   "cell_type": "code",
   "execution_count": 24,
   "id": "99561122-9676-4cc3-b7da-6c96cb9a639b",
   "metadata": {},
   "outputs": [
    {
     "name": "stdout",
     "output_type": "stream",
     "text": [
      "MNI – Market News - Wikipedia Jump to content Main menu Main menu move to sidebar hide Navigation Main pageContentsCurrent eventsRandom articleAbout WikipediaContact us Contribute HelpLearn to editCommunity portalRecent changesUpload file Search Search Appearance Donate Create account Log in Personal tools Donate Create account Log in Pages for logged out editors learn more ContributionsTalk Contents move to sidebar hide (Top) 1 History 2 References 3 External links Toggle the table of contents MNI – Market News Add languages Add links ArticleTalk English ReadEditView history Tools Tools move to sidebar hide Actions ReadEditView history General What links hereRelated changesUpload fileSpecial pagesPermanent linkPage informationCite this pageGet shortened URLDownload QR code Print/export Download as PDFPrintable version In other projects Wikidata item Appearance move to sidebar hide From Wikipedia, the free encyclopedia MNI – Market NewsCompany typePrivately held companyIndustryNewsFounded1983; 41 years ago (1983)[1]HeadquartersLondon, United KingdomKey peopleTerry Alexander, CEOServicesOnline newspaperOwnerTenzingNumber of employees125 (2015)[2]Websitewww.marketnews.com MNI – Market News is a financial news organization focused on international capital markets. It is a provider of real-time news and analysis for the global foreign exchange market and fixed income markets. MNI has 12 bureaus across the United States, Asia, and Europe and is headquartered in London.[3] Market News has press credentials recognized by the White House, United States Congress, the Federal Reserve, the Deutsche Bundesbank, the European Central Bank, as well as by the governments and central banks of all Group of Seven nations.[2] History[edit] MNI was founded in 1983 by economist Robert Jones to advise on any pending actions by the Federal Reserve. MMS was an early innovator in the field of real-time analytics for traders.[2] In December 2003, it was acquired by Xinhua Finance.[4] In December 2008, Deutsche Börse paid $10 million to buy MNI from Xinhua.[5] On 5 July 2016 Deutsche Börse agreed to sell MNI to Hale Global.[6] In 2004, MNI came in the spotlight as financial news service provider through its publication of articles on European and global markets incorporating market intelligence from sources of the European Central Bank. After 2007, MNI rose to prominence by way of publishing exclusive headlines and interviews on the Greek government-debt crisis, which were widely report by international news agencies as well as regional and local media outlets around the world. MNI laid off at least 17 employees shortly after the sale to Hale Global,[7] including long time Federal Reserve reporter Steven Beckner and executive editor Tony Mace. Since then there have been two more rounds of layoffs—one in September 2017, which included Treasury reporter and one-time DC Bureau chief Denny Gulino,[8][9] and one in January 2018.[10] In the beginning of 2017, journalist Angelika Papamiltiadou was promoted by Hale Global as the agency's chief European correspondent and Brussels bureau chief, only to be laid off a few months later. In December 2017, Terry Alexander joined as CEO and Ricard Hall joined as Non-Executive Chairman.[11] In August 2022 MNI was acquired by Tenzing.[12] References[edit] ^ \"MARKET NEWS INTERNATIONAL'S THE MAIN WIRE NOW AVAILABLE FOR CQG USERS\" (PDF) (Press release). September 12, 2007. ^ a b c Roush, Chris (August 19, 2015). \"Explaining the news behind Market News International\". Talking Biz News. ^ \"About Us\". Market News. ^ \"Xinhua Finance to buy U.S.-based Market News\". China Daily. December 10, 2003. ^ Shields, Michael (December 22, 2008). \"Deutsche Boerse buys Market News International\". Reuters. ^ \"Deutsche Börse to divest Market News International\". Deutsche Börse (Press release). July 5, 2016. ^ Roush, Chris (July 18, 2016). \"At least 17 laid off at Market News International, including Beckner\". Talking Biz News. ^ Roush, Chris (September 8, 2017). \"Two more reporters leave MNI office in DC\". Talking Biz News. ^ Roush, Chris (July 25, 2017). \"Gulino leaves Market News International, for a third time\". Talking Biz News. ^ Roush, Chris (January 8, 2018). \"MNI lays off more longtime journalists\". Talking Biz News. ^ \"Leadership Team\". Market News. ^ Cook, James (8 August 2022). \"Tenzing completes acquisition of MNI\". Business Leader. Retrieved 22 November 2022. External links[edit] Official website Retrieved from \"https://en.wikipedia.org/w/index.php?title=MNI_–_Market_News&oldid=1187656814\" Categories: Business newspapers published in the United KingdomEconomics websitesHidden category: Official website different in Wikidata and Wikipedia This page was last edited on 30 November 2023, at 16:50 (UTC). Text is available under the Creative Commons Attribution-ShareAlike 4.0 License; additional terms may apply. By using this site, you agree to the Terms of Use and Privacy Policy. Wikipedia® is a registered trademark of the Wikimedia Foundation, Inc., a non-profit organization. Privacy policy About Wikipedia Disclaimers Contact Wikipedia Code of Conduct Developers Statistics Cookie statement Mobile view\n"
     ]
    }
   ],
   "source": [
    "import requests\n",
    "from bs4 import BeautifulSoup\n",
    "\n",
    "# URL of the webpage to scrape\n",
    "url = \"https://en.wikipedia.org/wiki/MNI_%E2%80%93_Market_News\"\n",
    "\n",
    "# Send a GET request to the webpage\n",
    "response = requests.get(url)\n",
    "if response.status_code == 200:\n",
    "    # Parse the HTML content of the page\n",
    "    soup = BeautifulSoup(response.text, 'html.parser').get_text()\n",
    "    print(\" \".join(soup.split()))\n",
    "else:\n",
    "    print(f\"Failed to retrieve the webpage. Status code: {response.status_code}\")\n"
   ]
  },
  {
   "cell_type": "code",
   "execution_count": 34,
   "id": "4761ad39-6278-4a32-b85b-ae8bdb37baef",
   "metadata": {},
   "outputs": [
    {
     "name": "stdout",
     "output_type": "stream",
     "text": [
      "[Document(metadata={'source': 'temp.txt'}, page_content='')]\n",
      "[]\n"
     ]
    }
   ],
   "source": [
    "from langchain_community.document_loaders import TextLoader\n",
    "from langchain_text_splitters import CharacterTextSplitter\n",
    "import os\n",
    "loader = TextLoader(\"temp.txt\")\n",
    "documents = loader.load()\n",
    "print(documents)\n",
    "text_splitter = CharacterTextSplitter(chunk_size=1000, chunk_overlap=0)\n",
    "docs = text_splitter.split_documents(documents)\n",
    "print(docs)"
   ]
  },
  {
   "cell_type": "code",
   "execution_count": 42,
   "id": "3f94c23b-f852-4f8b-9aa8-99559f3fcc77",
   "metadata": {},
   "outputs": [
    {
     "name": "stdout",
     "output_type": "stream",
     "text": [
      "Page Content: LangChain is a framework for developing applications powered by language models. \n",
      "It helps in creating workflows that combine LLMs with various tools and data.\n",
      "Metadata: {'source': 'example.com', 'category': 'tutorial'}\n"
     ]
    }
   ],
   "source": [
    "from langchain.schema import Document\n",
    "\n",
    "# Example text\n",
    "text = \"\"\"LangChain is a framework for developing applications powered by language models. \n",
    "It helps in creating workflows that combine LLMs with various tools and data.\"\"\"\n",
    "\n",
    "# Convert text to a LangChain Document\n",
    "doc = Document(page_content=text,metadata={\"source\": \"example.com\", \"category\": \"tutorial\"})\n",
    "\n",
    "# Access document properties\n",
    "print(\"Page Content:\", doc.page_content)\n",
    "print(\"Metadata:\", doc.metadata)\n"
   ]
  },
  {
   "cell_type": "code",
   "execution_count": 48,
   "id": "69147ac9-04c3-41c3-9ebd-4d6da534ffb9",
   "metadata": {},
   "outputs": [
    {
     "name": "stdout",
     "output_type": "stream",
     "text": [
      "html_splitter\n",
      "<langchain_text_splitters.html.HTMLSectionSplitter object at 0x000001B406CA0C80>\n",
      "html_header_splits\n",
      "[Document(metadata={'Header 1': 'Foo'}, page_content='Foo \\n Some intro text about Foo.'), Document(metadata={'Header 2': 'Bar main section'}, page_content='Bar main section \\n Some intro text about Bar.'), Document(metadata={'Header 3': 'Bar subsection 1'}, page_content='Bar subsection 1 \\n Some text about the first subtopic of Bar.'), Document(metadata={'Header 3': 'Bar subsection 2'}, page_content='Bar subsection 2 \\n Some text about the second subtopic of Bar.'), Document(metadata={'Header 2': 'Baz'}, page_content='Baz \\n Some text about Baz \\n \\n \\n Some concluding text about Foo')]\n"
     ]
    },
    {
     "data": {
      "text/plain": [
       "[Document(metadata={'Header 1': 'Foo'}, page_content='Foo \\n Some intro text about Foo.'),\n",
       " Document(metadata={'Header 2': 'Bar main section'}, page_content='Bar main section \\n Some intro text about Bar.'),\n",
       " Document(metadata={'Header 3': 'Bar subsection 1'}, page_content='Bar subsection 1 \\n Some text about the first subtopic of Bar.'),\n",
       " Document(metadata={'Header 3': 'Bar subsection 2'}, page_content='Bar subsection 2 \\n Some text about the second subtopic of Bar.'),\n",
       " Document(metadata={'Header 2': 'Baz'}, page_content='Baz \\n Some text about Baz \\n \\n \\n Some concluding text about Foo')]"
      ]
     },
     "execution_count": 48,
     "metadata": {},
     "output_type": "execute_result"
    }
   ],
   "source": [
    "from langchain.text_splitter import RecursiveCharacterTextSplitter\n",
    "from langchain_text_splitters import HTMLSectionSplitter\n",
    "\n",
    "\n",
    "html_string = \"\"\"\n",
    "    <!DOCTYPE html>\n",
    "    <html>\n",
    "    <body>\n",
    "        <div>\n",
    "            <h1>Foo</h1>\n",
    "            <p>Some intro text about Foo.</p>\n",
    "            <div>\n",
    "                <h2>Bar main section</h2>\n",
    "                <p>Some intro text about Bar.</p>\n",
    "                <h3>Bar subsection 1</h3>\n",
    "                <p>Some text about the first subtopic of Bar.</p>\n",
    "                <h3>Bar subsection 2</h3>\n",
    "                <p>Some text about the second subtopic of Bar.</p>\n",
    "            </div>\n",
    "            <div>\n",
    "                <h2>Baz</h2>\n",
    "                <p>Some text about Baz</p>\n",
    "            </div>\n",
    "            <br>\n",
    "            <p>Some concluding text about Foo</p>\n",
    "        </div>\n",
    "    </body>\n",
    "    </html>\n",
    "\"\"\"\n",
    "\n",
    "headers_to_split_on = [\n",
    "    (\"h1\", \"Header 1\"),\n",
    "    (\"h2\", \"Header 2\"),\n",
    "    (\"h3\", \"Header 3\"),\n",
    "    (\"h4\", \"Header 4\"),\n",
    "]\n",
    "\n",
    "html_splitter = HTMLSectionSplitter(headers_to_split_on=headers_to_split_on)\n",
    "print(\"html_splitter\")\n",
    "print(html_splitter)\n",
    "html_header_splits = html_splitter.split_text(html_string)\n",
    "print(\"html_header_splits\")\n",
    "print(html_header_splits)\n",
    "\n",
    "chunk_size = 500\n",
    "chunk_overlap = 30\n",
    "text_splitter = RecursiveCharacterTextSplitter(\n",
    "    chunk_size=chunk_size, chunk_overlap=chunk_overlap\n",
    ")\n",
    "\n",
    "# Split\n",
    "splits = text_splitter.split_documents(html_header_splits)\n",
    "splits"
   ]
  },
  {
   "cell_type": "code",
   "execution_count": null,
   "id": "ef2360a4-f719-4ec6-b942-d496eb7d0041",
   "metadata": {},
   "outputs": [],
   "source": []
  }
 ],
 "metadata": {
  "kernelspec": {
   "display_name": "Python 3 (ipykernel)",
   "language": "python",
   "name": "python3"
  },
  "language_info": {
   "codemirror_mode": {
    "name": "ipython",
    "version": 3
   },
   "file_extension": ".py",
   "mimetype": "text/x-python",
   "name": "python",
   "nbconvert_exporter": "python",
   "pygments_lexer": "ipython3",
   "version": "3.12.4"
  }
 },
 "nbformat": 4,
 "nbformat_minor": 5
}
